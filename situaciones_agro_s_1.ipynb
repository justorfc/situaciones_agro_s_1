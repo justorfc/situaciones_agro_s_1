{
  "nbformat": 4,
  "nbformat_minor": 0,
  "metadata": {
    "colab": {
      "provenance": [],
      "authorship_tag": "ABX9TyNQwNpD92HBzC9CqyhOz5cA",
      "include_colab_link": true
    },
    "kernelspec": {
      "name": "python3",
      "display_name": "Python 3"
    },
    "language_info": {
      "name": "python"
    }
  },
  "cells": [
    {
      "cell_type": "markdown",
      "metadata": {
        "id": "view-in-github",
        "colab_type": "text"
      },
      "source": [
        "<a href=\"https://colab.research.google.com/github/justorfc/situaciones_agro_s_1/blob/main/situaciones_agro_s_1.ipynb\" target=\"_parent\"><img src=\"https://colab.research.google.com/assets/colab-badge.svg\" alt=\"Open In Colab\"/></a>"
      ]
    },
    {
      "cell_type": "markdown",
      "source": [
        "# Situación de Ingeniería Agrícola\n",
        "\n",
        "Un agricultor necesita saber cuántos kilogramos\n",
        " de semilla de maíz debe comprar para sembrar un lote rectangular. Conoce la densidad de siembra\n",
        " recomendada (kg por hectárea) y las dimensiones del lote (largo y ancho en metros)"
      ],
      "metadata": {
        "id": "uTNPrXVCoMMQ"
      }
    },
    {
      "cell_type": "code",
      "execution_count": 2,
      "metadata": {
        "colab": {
          "base_uri": "https://localhost:8080/"
        },
        "id": "djCDalZanY-H",
        "outputId": "3eb40a65-6cef-493b-e75e-7da1835c10a3"
      },
      "outputs": [
        {
          "name": "stdout",
          "output_type": "stream",
          "text": [
            "Bienvenido al programa de cálculo de densidad de siembra.\n",
            "Ingrese el largo del lote en metros: 25\n"
          ]
        }
      ],
      "source": [
        "# 1.  Saludar al usuario y explicar qué hace el programa\n",
        "print(\"Bienvenido al programa de cálculo de densidad de siembra.\")\n",
        "\n",
        "# 2.  Pedir al usuario que ingrese el largo del lote en metros (input sin convertir).\n",
        "largo = input(\"Ingrese el largo del lote en metros: \")\n",
        "\n",
        "# 3. Pedir el ancho del lote en metros (input NO USES FLOAT).\n",
        "ancho = input(\"Ingrese el ancho del lote en metros: \")\n",
        "\n",
        "# 4.  Pedir al usuario que ingrese la densidad de siembra recomendada en kilogramos por hectárea.\n",
        "densidad = input(\"Ingrese la densidad de siembra recomendada en kilogramos por hectárea: \")\n",
        "\n",
        "# 5 Convertir las entradas de texto a números decimales (float).\n",
        "largo = float(largo)\n",
        "ancho = float(ancho)\n",
        "densidad = float(densidad)\n",
        "\n",
        "# 6  Calcular el área en metros cuadrados (largo * ancho).\n",
        "area = largo * ancho\n",
        "\n",
        "# 7  Calcular la densidad de siembra en kilogramos por hectárea (area * densidad).\n",
        "densidad_siembra = area * densidad\n",
        "\n",
        "# 8  Mostrar el resultado al usuario.\n",
        "print(f\"La densidad de siembra recomendada para un lote de {largo} metros de largo y {ancho} metros de ancho es de {densidad_siembra} kilogramos por hectárea.\")"
      ]
    },
    {
      "cell_type": "markdown",
      "metadata": {
        "id": "5cc3f7a7"
      },
      "source": [
        "*   `print(\"Bienvenido al programa de cálculo de densidad de siembra.\")`: Esta línea imprime un mensaje de bienvenida en la consola para el usuario.\n",
        "*   `largo = input(\"Ingrese el largo del lote en metros: \")`: Solicita al usuario que ingrese el largo del lote en metros y almacena la entrada como texto en la variable `largo`.\n",
        "*   `ancho = input(\"Ingrese el ancho del lote en metros: \")`: Pide al usuario que ingrese el ancho del lote en metros y guarda la entrada como texto en la variable `ancho`.\n",
        "*   `densidad = input(\"Ingrese la densidad de siembra recomendada en kilogramos por hectárea: \")`: Solicita al usuario que ingrese la densidad de siembra recomendada en kilogramos por hectárea y guarda la entrada como texto en la variable `densidad`.\n",
        "*   `largo = float(largo)`: Convierte el valor de texto almacenado en la variable `largo` a un número decimal (flotante).\n",
        "*   `ancho = float(ancho)`: Convierte el valor de texto almacenado en la variable `ancho` a un número decimal (flotante).\n",
        "*   `densidad = float(densidad)`: Convierte el valor de texto almacenado en la variable `densidad` a un número decimal (flotante).\n",
        "*   `area = largo * ancho`: Calcula el área del lote en metros cuadrados multiplicando el largo por el ancho.\n",
        "*   `densidad_siembra = area * densidad`: **¡ERROR LÓGICO!** Esta línea **no** está calculando la densidad de siembra en kilogramos por hectárea. Está multiplicando el área en metros cuadrados por la densidad en kg/hectárea, lo cual no tiene sentido. Para calcular la cantidad total de semilla necesaria, deberías haber convertido el área de metros cuadrados a hectáreas **antes** de multiplicarla por la densidad.\n",
        "*   `print(f\"La densidad de siembra recomendada para un lote de {largo} metros de largo y {ancho} metros de ancho es de {densidad_siembra} kilogramos por hectárea.\")`: Muestra el resultado al usuario. **Sin embargo, debido al error lógico en la línea anterior, este resultado es incorrecto.** El mensaje también dice \"kilogramos por hectárea\" cuando el cálculo pretendía ser la cantidad total de semilla necesaria para el lote en kilogramos."
      ]
    }
  ]
}